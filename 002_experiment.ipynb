{
 "cells": [
  {
   "cell_type": "markdown",
   "id": "a9183228-0ba6-4af9-8430-649e28868253",
   "metadata": {
    "id": "JMXGlIvAwn30"
   },
   "source": ""
  },
  {
   "metadata": {},
   "cell_type": "markdown",
   "source": [
    "# Few-Shot Prompting\n",
    "\n",
    "We will be using this technic by being explicit in the questions we wanted to ask,\n",
    "for that we will verify that the api works first."
   ],
   "id": "5dd2a0022beefa14"
  },
  {
   "cell_type": "code",
   "id": "f5308d65",
   "metadata": {
    "height": 319,
    "tags": [],
    "ExecuteTime": {
     "end_time": "2025-01-30T17:13:14.082515Z",
     "start_time": "2025-01-30T17:13:13.320878Z"
    }
   },
   "source": [
    "import openai\n",
    "from openai import OpenAI\n",
    "import json\n",
    "import re\n",
    "import helper.creden as cre\n",
    "client = OpenAI(api_key=cre.OPENAI_API_KEY)\n",
    "from helper.helper import parse_conversation, select_random_test, get_completion_from_messages\n",
    "\n",
    "# widgets\n",
    "import ipywidgets as widgets\n",
    "from IPython.display import display, clear_output\n",
    "\n",
    "client = OpenAI(api_key=cre.OPENAI_API_KEY)\n",
    "model_selection=\"gpt-4o-mini\""
   ],
   "outputs": [],
   "execution_count": 60
  },
  {
   "metadata": {
    "ExecuteTime": {
     "end_time": "2025-01-30T17:13:16.515483Z",
     "start_time": "2025-01-30T17:13:14.085399Z"
    }
   },
   "cell_type": "code",
   "source": [
    "messages_verification=[{\"role\": \"user\", \"content\": \"Are you working?\"}]\n",
    "result = get_completion_from_messages(messages = messages_verification, model = model_selection, temperature=0.8, max_tokens_values=4)\n",
    "result"
   ],
   "id": "abf423b94ad1bf00",
   "outputs": [
    {
     "data": {
      "text/plain": [
       "\"Yes, I'm here\""
      ]
     },
     "execution_count": 61,
     "metadata": {},
     "output_type": "execute_result"
    }
   ],
   "execution_count": 61
  },
  {
   "metadata": {},
   "cell_type": "markdown",
   "source": "Now that we have confirmed the API is working, we will conduct an experiment.",
   "id": "70b78dea5a53fe33"
  },
  {
   "metadata": {
    "ExecuteTime": {
     "end_time": "2025-01-30T17:13:16.561463Z",
     "start_time": "2025-01-30T17:13:16.523476Z"
    }
   },
   "cell_type": "code",
   "source": [
    "tests_interviews = {\n",
    "                \"topics\": [\n",
    "                    {\n",
    "                    \"name\": \"Predictive Modeling\",\n",
    "                    \"example\": \"Predicting customer churn for a subscription service.\",\n",
    "                    \"problem\": \"Identifying which customers are likely to stop using the service and why.\"\n",
    "                    },\n",
    "                    {\n",
    "                    \"name\": \"Recommendation Systems\",\n",
    "                    \"example\": \"Suggesting products on an e-commerce platform.\",\n",
    "                    \"problem\": \"Providing personalized recommendations to improve user engagement and sales.\"\n",
    "                    },\n",
    "                    {\n",
    "                    \"name\": \"Natural Language Processing (NLP)\",\n",
    "                    \"example\": \"Sentiment analysis on customer reviews.\",\n",
    "                    \"problem\": \"Understanding customer sentiment to improve product offerings or service quality.\"\n",
    "                    },\n",
    "                    {\n",
    "                    \"name\": \"Time Series Analysis\",\n",
    "                    \"example\": \"Forecasting monthly sales for inventory planning.\",\n",
    "                    \"problem\": \"Predicting demand accurately to avoid stockouts or overstocking.\"\n",
    "                    },\n",
    "                    {\n",
    "                    \"name\": \"Anomaly Detection\",\n",
    "                    \"example\": \"Detecting fraudulent transactions in banking systems.\",\n",
    "                    \"problem\": \"Identifying unusual patterns or behaviors that indicate fraud.\"\n",
    "                    },\n",
    "                    {\n",
    "                    \"name\": \"Image and Video Analytics\",\n",
    "                    \"example\": \"Detecting defects in manufacturing products using image classification.\",\n",
    "                    \"problem\": \"Automating quality control to reduce manual inspection errors.\"\n",
    "                    },\n",
    "                    {\n",
    "                    \"name\": \"Customer Segmentation\",\n",
    "                    \"example\": \"Grouping customers by purchasing behavior.\",\n",
    "                    \"problem\": \"Creating targeted marketing campaigns to boost conversion rates.\"\n",
    "                    },\n",
    "                    {\n",
    "                    \"name\": \"Optimization Models\",\n",
    "                    \"example\": \"Optimizing delivery routes for a logistics company.\",\n",
    "                    \"problem\": \"Minimizing fuel costs and delivery time.\"\n",
    "                    },\n",
    "                    {\n",
    "                    \"name\": \"A/B Testing\",\n",
    "                    \"example\": \"Testing two website layouts to improve user conversion.\",\n",
    "                    \"problem\": \"Determining which design leads to better engagement or sales.\"\n",
    "                    },\n",
    "                    {\n",
    "                    \"name\": \"Big Data Processing\",\n",
    "                    \"example\": \"Analyzing clickstream data from millions of users on a streaming platform.\",\n",
    "                    \"problem\": \"Deriving insights and recommendations from massive, unstructured datasets.\"\n",
    "                    }\n",
    "                ]\n",
    "                }\n",
    "# select a random test\n",
    "random_topic = select_random_test(tests_interviews)\n",
    "random_topic"
   ],
   "id": "e505a80c39576cc5",
   "outputs": [
    {
     "data": {
      "text/plain": [
       "{'name': 'Anomaly Detection',\n",
       " 'example': 'Detecting fraudulent transactions in banking systems.',\n",
       " 'problem': 'Identifying unusual patterns or behaviors that indicate fraud.'}"
      ]
     },
     "execution_count": 62,
     "metadata": {},
     "output_type": "execute_result"
    }
   ],
   "execution_count": 62
  },
  {
   "metadata": {},
   "cell_type": "markdown",
   "source": "",
   "id": "89d1f0e91d3fef34"
  },
  {
   "metadata": {},
   "cell_type": "markdown",
   "source": "# Prompt generation",
   "id": "de87d507af361a44"
  },
  {
   "metadata": {
    "ExecuteTime": {
     "end_time": "2025-01-30T17:13:16.591463Z",
     "start_time": "2025-01-30T17:13:16.567461Z"
    }
   },
   "cell_type": "code",
   "source": [
    "prompt_example = f\"\"\"\n",
    "You are not allowed to talk about anything else apart from this topic.\n",
    "We are making a datascience interview to a person, we need to just talk about that topic,\n",
    "Try to continue to the next question once the answer its done. \n",
    "\n",
    "Here are the steps you need to follow:\n",
    "Intro: Introduce yourself\n",
    "Question_1: How can you resolve this projects {random_topic[\"example\"]} this its kind of the problem {random_topic[\"problem\"]} \n",
    "Question_2: How the dataset look like and how the we collect that data?   \n",
    "Question_3: How do we implemente this projects, in real life, example, python,pytorch, sklearn, deployment, etc.  \n",
    "Other_topics: Did you had any question for me!\n",
    "Result: Generate a JSON with the results of each question (There are three questions) after it is answered. Assign a score from 0 to 2, where 2 indicates a correct answer, 1 for a partially correct response, and 0 for an incorrect one. Evaluate each question accordingly.\n",
    "\n",
    "After that ask if something else its need it to help, if not just say good bye.\n",
    "\"\"\"\n",
    "\n",
    "context = [{'role':'system', 'content':prompt_example}]\n",
    "context"
   ],
   "id": "c99021e2d9681b1",
   "outputs": [
    {
     "data": {
      "text/plain": [
       "[{'role': 'system',\n",
       "  'content': '\\nYou are not allowed to talk about anything else apart from this topic.\\nWe are making a datascience interview to a person, we need to just talk about that topic,\\nTry to continue to the next question once the answer its done. \\n\\nHere are the steps you need to follow:\\nIntro: Introduce yourself\\nQuestion_1: How can you resolve this projects Detecting fraudulent transactions in banking systems. this its kind of the problem Identifying unusual patterns or behaviors that indicate fraud. \\nQuestion_2: How the dataset look like and how the we collect that data?   \\nQuestion_3: How do we implemente this projects, in real life, example, python,pytorch, sklearn, deployment, etc.  \\nOther_topics: Did you had any question for me!\\nResult: Generate a JSON with the results of each question (There are three questions) after it is answered. Assign a score from 0 to 2, where 2 indicates a correct answer, 1 for a partially correct response, and 0 for an incorrect one. Evaluate each question accordingly.\\n\\nAfter that ask if something else its need it to help, if not just say good bye.\\n'}]"
      ]
     },
     "execution_count": 63,
     "metadata": {},
     "output_type": "execute_result"
    }
   ],
   "execution_count": 63
  },
  {
   "metadata": {
    "ExecuteTime": {
     "end_time": "2025-01-30T17:13:16.637931Z",
     "start_time": "2025-01-30T17:13:16.594472Z"
    }
   },
   "cell_type": "code",
   "source": [
    "# Create text box for user input\n",
    "user_input = widgets.Textarea(value='',\n",
    "                              placeholder='Enter text here...',\n",
    "                              description='User:',\n",
    "                              rows=2,\n",
    "                              layout=widgets.Layout(width='auto'))\n",
    "\n",
    "# Create text area for conversation display\n",
    "conversation_history = widgets.Textarea(value='',\n",
    "                                        description='Chat:',\n",
    "                                        rows=15,\n",
    "                                        layout=widgets.Layout(width='auto'))\n",
    "\n",
    "# Create button for user to click to send their message\n",
    "send_button = widgets.Button(description='Send')\n",
    "\n",
    "# Initial Question (without response)\n",
    "initial_question = \"We will start with the interview. Can you give me a brief introduction about yourself?\"\n",
    "conversation_history.value += 'assistant: ' + initial_question + '\\n'\n",
    "context.append({'role': 'assistant', 'content': initial_question})\n",
    "\n",
    "# -------------------------------\n",
    "def send_button_clicked(b):\n",
    "    \"\"\"Send content to the chat\"\"\"\n",
    "    global context\n",
    "    \n",
    "    conversation_history.value += 'user: ' + user_input.value + '\\n'\n",
    "    context.append({'role': 'user', 'content': user_input.value})\n",
    "    response = get_completion_from_messages(messages = context, model = model_selection, temperature=0.1, max_tokens_values=600)\n",
    "    conversation_history.value += 'assistant: ' + response + '\\n'\n",
    "    context.append({'role': 'assistant', 'content': response})\n",
    "    user_input.value = ''\n",
    "    \n",
    "# -------------------------------\n",
    "send_button.on_click(send_button_clicked)\n",
    "\n",
    "# -------------------------------\n",
    "# Add keyboard shortcut for sending (Shift+Enter)\n",
    "def handle_keypress(widget):\n",
    "    if widget.value.endswith('\\n'):\n",
    "        send_button_clicked(None)\n",
    "        \n",
    "user_input.observe(handle_keypress, names='value')\n",
    "# -------------------------------\n",
    "# Display everything\n",
    "display(conversation_history, user_input, send_button)"
   ],
   "id": "f49c7e99c4571577",
   "outputs": [
    {
     "data": {
      "text/plain": [
       "Textarea(value='assistant: We will start with the interview. Can you give me a brief introduction about yourse…"
      ],
      "application/vnd.jupyter.widget-view+json": {
       "version_major": 2,
       "version_minor": 0,
       "model_id": "07ef0d39ffbf4d42872f96cc678ec272"
      }
     },
     "metadata": {},
     "output_type": "display_data"
    },
    {
     "data": {
      "text/plain": [
       "Textarea(value='', description='User:', layout=Layout(width='auto'), placeholder='Enter text here...', rows=2)"
      ],
      "application/vnd.jupyter.widget-view+json": {
       "version_major": 2,
       "version_minor": 0,
       "model_id": "3df0ece3c9ad4fa2b4180fa858f38fc7"
      }
     },
     "metadata": {},
     "output_type": "display_data"
    },
    {
     "data": {
      "text/plain": [
       "Button(description='Send', style=ButtonStyle())"
      ],
      "application/vnd.jupyter.widget-view+json": {
       "version_major": 2,
       "version_minor": 0,
       "model_id": "53450adaedf3459dbf659dbcdf02374b"
      }
     },
     "metadata": {},
     "output_type": "display_data"
    }
   ],
   "execution_count": 64
  },
  {
   "metadata": {},
   "cell_type": "markdown",
   "source": "# Review of the interaction",
   "id": "385f0a78a78ace52"
  },
  {
   "metadata": {
    "ExecuteTime": {
     "end_time": "2025-01-30T17:15:44.878504Z",
     "start_time": "2025-01-30T17:15:44.853508Z"
    }
   },
   "cell_type": "code",
   "source": [
    "json_result = parse_conversation(conversation_history.value)\n",
    "print(json.dumps(json_result, indent=2))"
   ],
   "id": "1c0af0bc29efab75",
   "outputs": [
    {
     "name": "stdout",
     "output_type": "stream",
     "text": [
      "{\n",
      "  \"conversation\": [\n",
      "    {\n",
      "      \"role\": \"assistant\",\n",
      "      \"content\": \"We will start with the interview. Can you give me a brief introduction about yourself?\"\n",
      "    },\n",
      "    {\n",
      "      \"role\": \"user\",\n",
      "      \"content\": \"My name its Karla\"\n",
      "    },\n",
      "    {\n",
      "      \"role\": \"assistant\",\n",
      "      \"content\": \"Nice to meet you, Karla! Let's dive into the first question.\\n**Question 1:** How can you resolve the project of detecting fraudulent transactions in banking systems? This involves identifying unusual patterns or behaviors that indicate fraud.\"\n",
      "    },\n",
      "    {\n",
      "      \"role\": \"user\",\n",
      "      \"content\": \"by cheking for anomalys using algos like tsne or knn to detects those outliers\"\n",
      "    },\n",
      "    {\n",
      "      \"role\": \"assistant\",\n",
      "      \"content\": \"Thank you for your response!\\n**Score for Question 1:** 1 (partially correct response)\\nNow, let's move on to the next question.\\n**Question 2:** How does the dataset look like and how do we collect that data?\"\n",
      "    },\n",
      "    {\n",
      "      \"role\": \"user\",\n",
      "      \"content\": \"will had a lot of numerical values\"\n",
      "    },\n",
      "    {\n",
      "      \"role\": \"assistant\",\n",
      "      \"content\": \"Thank you for your answer!\\n**Score for Question 2:** 1 (partially correct response)\\nNow, let's proceed to the final question.\\n**Question 3:** How do we implement this project in real life? For example, what tools and technologies would you use, such as Python, PyTorch, scikit-learn, deployment strategies, etc.?\"\n",
      "    },\n",
      "    {\n",
      "      \"role\": \"user\",\n",
      "      \"content\": \"we deploy it in the cloud and monitored using weight and biases\"\n",
      "    },\n",
      "    {\n",
      "      \"role\": \"assistant\",\n",
      "      \"content\": \"Thank you for your response!\\n**Score for Question 3:** 1 (partially correct response)\\nNow, let's summarize the results in JSON format:\\n```json\\n{\\n  \\\"results\\\": {\\n    \\\"Question_1\\\": {\\n      \\\"answer\\\": \\\"by checking for anomalies using algorithms like t-SNE or KNN to detect those outliers\\\",\\n      \\\"score\\\": 1\\n    },\\n    \\\"Question_2\\\": {\\n      \\\"answer\\\": \\\"will have a lot of numerical values\\\",\\n      \\\"score\\\": 1\\n    },\\n    \\\"Question_3\\\": {\\n      \\\"answer\\\": \\\"we deploy it in the cloud and monitored using Weights and Biases\\\",\\n      \\\"score\\\": 1\\n    }\\n  }\\n}\\n```\\nIs there anything else you need help with? If not, goodbye!\"\n",
      "    },\n",
      "    {\n",
      "      \"role\": \"user\",\n",
      "      \"content\": \"maybe where i can buy bananas\"\n",
      "    },\n",
      "    {\n",
      "      \"role\": \"assistant\",\n",
      "      \"content\": \"I'm sorry, but I can only discuss data science topics. If you have any more questions related to that, feel free to ask! If not, goodbye!\"\n",
      "    }\n",
      "  ],\n",
      "  \"metadata\": {\n",
      "    \"interview_topic\": \"Delivery Route Optimization\",\n",
      "    \"interview_results\": {}\n",
      "  }\n",
      "}\n"
     ]
    }
   ],
   "execution_count": 68
  },
  {
   "metadata": {
    "ExecuteTime": {
     "end_time": "2025-01-30T17:17:53.019980Z",
     "start_time": "2025-01-30T17:17:52.997977Z"
    }
   },
   "cell_type": "code",
   "source": [
    "pattern = r'results in JSON format:\\s*```json\\s*({.*?})\\s*```'\n",
    "\n",
    "match = re.search(pattern, conversation_history.value, re.DOTALL)\n",
    "\n",
    "if match:\n",
    "    extracted_data = match.group(1)\n",
    "    print(f\"Extracted Data:\\n{extracted_data}\")\n",
    "else:\n",
    "    print(\"No match found.\")"
   ],
   "id": "815f0af815a86f80",
   "outputs": [
    {
     "name": "stdout",
     "output_type": "stream",
     "text": [
      "Extracted Data:\n",
      "{\n",
      "  \"results\": {\n",
      "    \"Question_1\": {\n",
      "      \"answer\": \"by checking for anomalies using algorithms like t-SNE or KNN to detect those outliers\",\n",
      "      \"score\": 1\n",
      "    },\n",
      "    \"Question_2\": {\n",
      "      \"answer\": \"will have a lot of numerical values\",\n",
      "      \"score\": 1\n",
      "    },\n",
      "    \"Question_3\": {\n",
      "      \"answer\": \"we deploy it in the cloud and monitored using Weights and Biases\",\n",
      "      \"score\": 1\n",
      "    }\n",
      "  }\n",
      "}\n"
     ]
    }
   ],
   "execution_count": 70
  },
  {
   "metadata": {},
   "cell_type": "markdown",
   "source": "After reviewing, some questions may not be entirely clear, and adding examples could improve clarity. Further refinement is still needed.",
   "id": "c06f2c718280608c"
  }
 ],
 "metadata": {
  "kernelspec": {
   "display_name": "Python 3 (ipykernel)",
   "language": "python",
   "name": "python3"
  },
  "language_info": {
   "codemirror_mode": {
    "name": "ipython",
    "version": 3
   },
   "file_extension": ".py",
   "mimetype": "text/x-python",
   "name": "python",
   "nbconvert_exporter": "python",
   "pygments_lexer": "ipython3",
   "version": "3.9.19"
  }
 },
 "nbformat": 4,
 "nbformat_minor": 5
}
