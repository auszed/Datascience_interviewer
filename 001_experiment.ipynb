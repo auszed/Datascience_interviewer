{
 "cells": [
  {
   "cell_type": "markdown",
   "id": "a9183228-0ba6-4af9-8430-649e28868253",
   "metadata": {
    "id": "JMXGlIvAwn30"
   },
   "source": ""
  },
  {
   "metadata": {},
   "cell_type": "markdown",
   "source": [
    "# Experiments\n",
    "The goal is to experiment with different prompts to determine which features provide the most value to the overall experiment. To achieve this, we will test various techniques until we identify the most effective one, which will then be selected for deployment.\n",
    "\n",
    "# Testing"
   ],
   "id": "5dd2a0022beefa14"
  },
  {
   "cell_type": "code",
   "id": "f5308d65",
   "metadata": {
    "height": 319,
    "tags": [],
    "ExecuteTime": {
     "end_time": "2025-01-30T11:23:54.722288Z",
     "start_time": "2025-01-30T11:23:52.308244Z"
    }
   },
   "source": [
    "import openai\n",
    "from openai import OpenAI\n",
    "import json\n",
    "import re\n",
    "import helper.creden as cre\n",
    "from helper.helper import parse_conversation, get_completion_from_messages, select_random_test\n",
    "\n",
    "# widgets\n",
    "import ipywidgets as widgets\n",
    "from IPython.display import display, clear_output\n",
    "\n",
    "# import variables\n",
    "# openai.api_key = cre.OPENAI_API_KEY\n",
    "client = OpenAI(api_key=cre.OPENAI_API_KEY)\n",
    "model_selection=\"gpt-4o-mini\""
   ],
   "outputs": [],
   "execution_count": 1
  },
  {
   "metadata": {
    "ExecuteTime": {
     "end_time": "2025-01-30T11:23:57.233781Z",
     "start_time": "2025-01-30T11:23:54.724801Z"
    }
   },
   "cell_type": "code",
   "source": [
    "response = client.chat.completions.create(\n",
    "    model=model_selection,\n",
    "    messages=[{\"role\": \"user\", \"content\": \"hola como estas\"}],\n",
    "    max_tokens=64\n",
    ")\n",
    "response"
   ],
   "id": "df26018b92ece707",
   "outputs": [
    {
     "data": {
      "text/plain": [
       "ChatCompletion(id='chatcmpl-AvMwHh4dW8B6t3LmnA7NjmmB5u4Hs', choices=[Choice(finish_reason='stop', index=0, logprobs=None, message=ChatCompletionMessage(content='¡Hola! Estoy aquí y listo para ayudarte. ¿En qué puedo asistirte hoy?', refusal=None, role='assistant', audio=None, function_call=None, tool_calls=None))], created=1738236237, model='gpt-4o-mini-2024-07-18', object='chat.completion', service_tier='default', system_fingerprint='fp_72ed7ab54c', usage=CompletionUsage(completion_tokens=19, prompt_tokens=10, total_tokens=29, completion_tokens_details=CompletionTokensDetails(accepted_prediction_tokens=0, audio_tokens=0, reasoning_tokens=0, rejected_prediction_tokens=0), prompt_tokens_details=PromptTokensDetails(audio_tokens=0, cached_tokens=0)))"
      ]
     },
     "execution_count": 2,
     "metadata": {},
     "output_type": "execute_result"
    }
   ],
   "execution_count": 2
  },
  {
   "metadata": {
    "ExecuteTime": {
     "end_time": "2025-01-30T11:23:57.248832Z",
     "start_time": "2025-01-30T11:23:57.236307Z"
    }
   },
   "cell_type": "code",
   "source": [
    "print(response.choices[0].message.role, \" :\")\n",
    "print(response.choices[0].message.content)\n",
    "print(response.usage)\n",
    "\n",
    "print(response.usage.prompt_tokens)\n",
    "print(response.usage.completion_tokens)\n",
    "print(response.usage.total_tokens)"
   ],
   "id": "d58f142516b766c6",
   "outputs": [
    {
     "name": "stdout",
     "output_type": "stream",
     "text": [
      "assistant  :\n",
      "¡Hola! Estoy aquí y listo para ayudarte. ¿En qué puedo asistirte hoy?\n",
      "CompletionUsage(completion_tokens=19, prompt_tokens=10, total_tokens=29, completion_tokens_details=CompletionTokensDetails(accepted_prediction_tokens=0, audio_tokens=0, reasoning_tokens=0, rejected_prediction_tokens=0), prompt_tokens_details=PromptTokensDetails(audio_tokens=0, cached_tokens=0))\n",
      "10\n",
      "19\n",
      "29\n"
     ]
    }
   ],
   "execution_count": 3
  },
  {
   "metadata": {},
   "cell_type": "markdown",
   "source": "Now that we have confirmed the API is working, we will conduct several experiments to determine which prompts provide the most value. Next, we will select a theme for the interview to ensure a structured approach.",
   "id": "70b78dea5a53fe33"
  },
  {
   "metadata": {
    "ExecuteTime": {
     "end_time": "2025-01-30T11:23:57.264869Z",
     "start_time": "2025-01-30T11:23:57.251822Z"
    }
   },
   "cell_type": "code",
   "source": [
    "tests_interviews = {\n",
    "                \"topics\": [\n",
    "                    {\n",
    "                    \"name\": \"Predictive Modeling\",\n",
    "                    \"example\": \"Predicting customer churn for a subscription service.\",\n",
    "                    \"problem\": \"Identifying which customers are likely to stop using the service and why.\"\n",
    "                    },\n",
    "                    {\n",
    "                    \"name\": \"Recommendation Systems\",\n",
    "                    \"example\": \"Suggesting products on an e-commerce platform.\",\n",
    "                    \"problem\": \"Providing personalized recommendations to improve user engagement and sales.\"\n",
    "                    },\n",
    "                    {\n",
    "                    \"name\": \"Natural Language Processing (NLP)\",\n",
    "                    \"example\": \"Sentiment analysis on customer reviews.\",\n",
    "                    \"problem\": \"Understanding customer sentiment to improve product offerings or service quality.\"\n",
    "                    },\n",
    "                    {\n",
    "                    \"name\": \"Time Series Analysis\",\n",
    "                    \"example\": \"Forecasting monthly sales for inventory planning.\",\n",
    "                    \"problem\": \"Predicting demand accurately to avoid stockouts or overstocking.\"\n",
    "                    },\n",
    "                    {\n",
    "                    \"name\": \"Anomaly Detection\",\n",
    "                    \"example\": \"Detecting fraudulent transactions in banking systems.\",\n",
    "                    \"problem\": \"Identifying unusual patterns or behaviors that indicate fraud.\"\n",
    "                    },\n",
    "                    {\n",
    "                    \"name\": \"Image and Video Analytics\",\n",
    "                    \"example\": \"Detecting defects in manufacturing products using image classification.\",\n",
    "                    \"problem\": \"Automating quality control to reduce manual inspection errors.\"\n",
    "                    },\n",
    "                    {\n",
    "                    \"name\": \"Customer Segmentation\",\n",
    "                    \"example\": \"Grouping customers by purchasing behavior.\",\n",
    "                    \"problem\": \"Creating targeted marketing campaigns to boost conversion rates.\"\n",
    "                    },\n",
    "                    {\n",
    "                    \"name\": \"Optimization Models\",\n",
    "                    \"example\": \"Optimizing delivery routes for a logistics company.\",\n",
    "                    \"problem\": \"Minimizing fuel costs and delivery time.\"\n",
    "                    },\n",
    "                    {\n",
    "                    \"name\": \"A/B Testing\",\n",
    "                    \"example\": \"Testing two website layouts to improve user conversion.\",\n",
    "                    \"problem\": \"Determining which design leads to better engagement or sales.\"\n",
    "                    },\n",
    "                    {\n",
    "                    \"name\": \"Big Data Processing\",\n",
    "                    \"example\": \"Analyzing clickstream data from millions of users on a streaming platform.\",\n",
    "                    \"problem\": \"Deriving insights and recommendations from massive, unstructured datasets.\"\n",
    "                    }\n",
    "                ]\n",
    "                }\n",
    "# select a random test\n",
    "random_topic = select_random_test(tests_interviews)\n",
    "random_topic"
   ],
   "id": "e505a80c39576cc5",
   "outputs": [
    {
     "data": {
      "text/plain": [
       "{'name': 'Optimization Models',\n",
       " 'example': 'Optimizing delivery routes for a logistics company.',\n",
       " 'problem': 'Minimizing fuel costs and delivery time.'}"
      ]
     },
     "execution_count": 4,
     "metadata": {},
     "output_type": "execute_result"
    }
   ],
   "execution_count": 4
  },
  {
   "metadata": {},
   "cell_type": "markdown",
   "source": [
    "# Experiments\n",
    "\n",
    "### Zero-Shot Prompting\n",
    "\n",
    "In this case, we will simply structure the interview prompts as we see fit."
   ],
   "id": "89d1f0e91d3fef34"
  },
  {
   "metadata": {
    "ExecuteTime": {
     "end_time": "2025-01-30T11:30:43.676500Z",
     "start_time": "2025-01-30T11:30:43.652800Z"
    }
   },
   "cell_type": "code",
   "source": [
    "panels = [] # collect display \n",
    "\n",
    "prompt_example = f\"\"\"\n",
    "We are making a datascience interview to a person, we need to just talk about that topic, we are not allowed to talk about anything else.\n",
    "Try to continue to the next question once the answer its done.\n",
    "\n",
    "You select the 3 question to ask about data science, but has to be related to this topic  {random_topic[\"example\"]} and about this problem {random_topic[\"problem\"]} , add 2 points for each correct question and use discretion to evaluate it.\n",
    "\n",
    "After the question replay what you do good in the past question but dont give an answer of it.\n",
    "\n",
    "You can make a json with the result in points for each question if there are correct 2 if not 0 question.\n",
    "\n",
    "Once you put the json you can ask if there its anything else, if not say good bye\n",
    "\"\"\"\n",
    "\n",
    "context = [{'role':'system', 'content':prompt_example}]\n",
    "context"
   ],
   "id": "c99021e2d9681b1",
   "outputs": [
    {
     "data": {
      "text/plain": [
       "[{'role': 'system',\n",
       "  'content': '\\nWe are making a datascience interview to a person, we need to just talk about that topic, we are not allowed to talk about anything else.\\nTry to continue to the next question once the answer its done.\\n\\nYou select the 3 question to ask about data science, but has to be related to this topic  Optimizing delivery routes for a logistics company. and about this problem Minimizing fuel costs and delivery time. , add 2 points for each correct question and use discretion to evaluate it.\\n\\nAfter the question replay what you do good in the past question but dont give an answer of it.\\n\\nYou can make a json with the result in points for each question if there are correct 2 if not 0 question.\\n\\nOnce you put the json you can ask if there its anything else, if not say good bye\\n'}]"
      ]
     },
     "execution_count": 14,
     "metadata": {},
     "output_type": "execute_result"
    }
   ],
   "execution_count": 14
  },
  {
   "metadata": {
    "ExecuteTime": {
     "end_time": "2025-01-30T11:30:48.565069Z",
     "start_time": "2025-01-30T11:30:48.514740Z"
    }
   },
   "cell_type": "code",
   "source": [
    "# Create text box for user input\n",
    "user_input = widgets.Textarea(value='',\n",
    "                              placeholder='Enter text here...',\n",
    "                              description='User:',\n",
    "                              rows=2,\n",
    "                              layout=widgets.Layout(width='auto'))\n",
    "\n",
    "# Create text area for conversation display\n",
    "conversation_history = widgets.Textarea(value='',\n",
    "                                        description='Chat:',\n",
    "                                        rows=15,\n",
    "                                        layout=widgets.Layout(width='auto'))\n",
    "\n",
    "# Create button for user to click to send their message\n",
    "send_button = widgets.Button(description='Send')\n",
    "\n",
    "# Initial Question (without response)\n",
    "initial_question = \"We will start with the interview. Can you give me a brief introduction about yourself?\"\n",
    "conversation_history.value += 'assistant: ' + initial_question + '\\n'\n",
    "context.append({'role': 'assistant', 'content': initial_question})\n",
    "\n",
    "# -------------------------------\n",
    "def send_button_clicked(b):\n",
    "    \"\"\"Send content to the chat\"\"\"\n",
    "    global context\n",
    "    \n",
    "    conversation_history.value += 'user: ' + user_input.value + '\\n'\n",
    "    context.append({'role': 'user', 'content': user_input.value})\n",
    "    response = get_completion_from_messages(context, model = model_selection, temperature=0.8, max_tokens_values=80) \n",
    "    conversation_history.value += 'assistant: ' + response + '\\n'\n",
    "    context.append({'role': 'assistant', 'content': response})\n",
    "    user_input.value = ''\n",
    "    \n",
    "# -------------------------------\n",
    "send_button.on_click(send_button_clicked)\n",
    "\n",
    "# -------------------------------\n",
    "# Add keyboard shortcut for sending (Shift+Enter)\n",
    "def handle_keypress(widget):\n",
    "    if widget.value.endswith('\\n'):\n",
    "        send_button_clicked(None)\n",
    "        \n",
    "user_input.observe(handle_keypress, names='value')\n",
    "# -------------------------------\n",
    "\n",
    "# Display everything\n",
    "display(conversation_history, user_input, send_button)"
   ],
   "id": "f49c7e99c4571577",
   "outputs": [
    {
     "data": {
      "text/plain": [
       "Textarea(value='assistant: We will start with the interview. Can you give me a brief introduction about yourse…"
      ],
      "application/vnd.jupyter.widget-view+json": {
       "version_major": 2,
       "version_minor": 0,
       "model_id": "ad4625cacc8346c0b5f00c131819220f"
      }
     },
     "metadata": {},
     "output_type": "display_data"
    },
    {
     "data": {
      "text/plain": [
       "Textarea(value='', description='User:', layout=Layout(width='auto'), placeholder='Enter text here...', rows=2)"
      ],
      "application/vnd.jupyter.widget-view+json": {
       "version_major": 2,
       "version_minor": 0,
       "model_id": "ce73a8caeb0e485c8f3a3697c0b06f41"
      }
     },
     "metadata": {},
     "output_type": "display_data"
    },
    {
     "data": {
      "text/plain": [
       "Button(description='Send', style=ButtonStyle())"
      ],
      "application/vnd.jupyter.widget-view+json": {
       "version_major": 2,
       "version_minor": 0,
       "model_id": "880fb7f9f8504fd7a8b4664f7567dfa4"
      }
     },
     "metadata": {},
     "output_type": "display_data"
    }
   ],
   "execution_count": 16
  },
  {
   "metadata": {
    "ExecuteTime": {
     "end_time": "2025-01-30T11:40:55.438042Z",
     "start_time": "2025-01-30T11:40:55.429673Z"
    }
   },
   "cell_type": "code",
   "source": [
    "json_result = parse_conversation(conversation_history.value)\n",
    "print(json.dumps(json_result, indent=2))"
   ],
   "id": "1c0af0bc29efab75",
   "outputs": [
    {
     "name": "stdout",
     "output_type": "stream",
     "text": [
      "{\n",
      "  \"conversation\": [\n",
      "    {\n",
      "      \"role\": \"assistant\",\n",
      "      \"content\": \"We will start with the interview. Can you give me a brief introduction about yourself?\"\n",
      "    },\n",
      "    {\n",
      "      \"role\": \"user\",\n",
      "      \"content\": \"im kaly\"\n",
      "    },\n",
      "    {\n",
      "      \"role\": \"assistant\",\n",
      "      \"content\": \"Thank you, Kaly. Let's dive into the questions related to optimizing delivery routes for a logistics company.\\n**Question 1:** What data sources would you consider essential for optimizing delivery routes, and how would you utilize them to minimize fuel costs and delivery time? \\n(Please provide your answer.)\"\n",
      "    },\n",
      "    {\n",
      "      \"role\": \"user\",\n",
      "      \"content\": \"using knn as a source for finding the best routes\"\n",
      "    },\n",
      "    {\n",
      "      \"role\": \"assistant\",\n",
      "      \"content\": \"Thank you for your response. Using KNN (K-Nearest Neighbors) can be a useful approach for finding optimal routes based on historical data. However, there are other factors and data sources that could also be considered for a more comprehensive solution.\\n**Question 2:** Can you explain how you would implement a machine learning model to predict delivery times based on various factors such as traffic conditions, weather, and historical delivery data? \\n(Please provide your answer.)\"\n",
      "    },\n",
      "    {\n",
      "      \"role\": \"user\",\n",
      "      \"content\": \"implementing it use by adding it to xgboost, and trying to clean the data before that\"\n",
      "    },\n",
      "    {\n",
      "      \"role\": \"assistant\",\n",
      "      \"content\": \"Thank you for your answer. Implementing a model like XGBoost and ensuring data cleaning is crucial for accurate predictions. It\\u2019s great that you mentioned the importance of data preprocessing.\\n**Question 3:** What optimization techniques would you apply to improve the efficiency of delivery routes, and how would you measure the success of these optimizations in terms of fuel cost reduction and delivery time? \\n(Please provide your answer.)\"\n",
      "    },\n",
      "    {\n",
      "      \"role\": \"user\",\n",
      "      \"content\": \"not sure\"\n",
      "    },\n",
      "    {\n",
      "      \"role\": \"assistant\",\n",
      "      \"content\": \"Thank you for your honesty. It's perfectly fine not to have an answer for every question, as optimization techniques can be complex and varied.\\nNow, let's summarize your performance in the questions:\\n```json\\n{\\n  \\\"results\\\": {\\n    \\\"question_1\\\": 0,\\n    \\\"question_2\\\": 2,\\n    \\\"question_3\\\": 0\\n  }\\n}\\n```\\nYou did well in the second question by mentioning the use of XGBoost and the importance of data cleaning,\"\n",
      "    },\n",
      "    {\n",
      "      \"role\": \"user\",\n",
      "      \"content\": \"i see it\"\n",
      "    },\n",
      "    {\n",
      "      \"role\": \"assistant\",\n",
      "      \"content\": \"Is there anything else you would like to discuss regarding data science or optimizing delivery routes? If not, thank you for your time, and goodbye!\"\n",
      "    },\n",
      "    {\n",
      "      \"role\": \"user\",\n",
      "      \"content\": \"can we talk about bananas\"\n",
      "    },\n",
      "    {\n",
      "      \"role\": \"assistant\",\n",
      "      \"content\": \"I'm sorry, but we can only discuss data science topics. If you have any more questions or topics related to data science, feel free to ask! If not, thank you for your time, and goodbye!\"\n",
      "    }\n",
      "  ],\n",
      "  \"metadata\": {\n",
      "    \"interview_topic\": \"Delivery Route Optimization\",\n",
      "    \"interview_results\": {}\n",
      "  }\n",
      "}\n"
     ]
    }
   ],
   "execution_count": 20
  },
  {
   "metadata": {
    "ExecuteTime": {
     "end_time": "2025-01-30T11:47:00.284796Z",
     "start_time": "2025-01-30T11:47:00.273760Z"
    }
   },
   "cell_type": "code",
   "source": [
    "pattern = r'\"results\":\\s*{(.*?)}'\n",
    "\n",
    "match = re.search(pattern, conversation_history.value, re.DOTALL)\n",
    "\n",
    "if match:\n",
    "    extracted_data = match.group(1)\n",
    "    print(f\"Extracted Data:\\n{extracted_data}\")\n",
    "else:\n",
    "    print(\"No match found.\")"
   ],
   "id": "815f0af815a86f80",
   "outputs": [
    {
     "name": "stdout",
     "output_type": "stream",
     "text": [
      "Extracted Data:\n",
      "\n",
      "    \"question_1\": 0,\n",
      "    \"question_2\": 2,\n",
      "    \"question_3\": 0\n",
      "  \n"
     ]
    }
   ],
   "execution_count": 24
  },
  {
   "metadata": {},
   "cell_type": "markdown",
   "source": [
    "As we can see from this test, we didn’t pass it, so the experiment is being qualified correctly.\n",
    "However, I believe we could improve the model’s performance,\n",
    "and we'll try using other techniques to see how it performs.\n",
    "also we could see that some questions aren’t focused on a proper interview, so i guess its not the best method to approach this task."
   ],
   "id": "c06f2c718280608c"
  }
 ],
 "metadata": {
  "kernelspec": {
   "display_name": "Python 3 (ipykernel)",
   "language": "python",
   "name": "python3"
  },
  "language_info": {
   "codemirror_mode": {
    "name": "ipython",
    "version": 3
   },
   "file_extension": ".py",
   "mimetype": "text/x-python",
   "name": "python",
   "nbconvert_exporter": "python",
   "pygments_lexer": "ipython3",
   "version": "3.9.19"
  }
 },
 "nbformat": 4,
 "nbformat_minor": 5
}
